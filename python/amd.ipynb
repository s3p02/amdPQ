{
 "cells": [
  {
   "cell_type": "markdown",
   "metadata": {},
   "source": [
    "\"\"\"You observe a program behaves like this\n",
    "aaeeeeebcdffff -> aaze5bcdzf4\n",
    "aefrtdddggg -> aefrtzd3zg3\n",
    "aertttefze -> aerzt3efze \n",
    "hhhhhhhhh2z -> zh92z\n",
    "inputString = \"aaeeeeeeebcdff\" \"\"\""
   ]
  },
  {
   "cell_type": "code",
   "execution_count": 19,
   "metadata": {},
   "outputs": [],
   "source": [
    "import logging\n",
    "import sys\n",
    "import unittest\n",
    "class charTracker:\n",
    "    def __init__(self,char,count=0):\n",
    "        self.char = char\n",
    "        logging.debug(\"CLASS charTracker - METHOD init - char: {}\".format(self.char))\n",
    "        self.count = count\n",
    "        logging.debug(\"CLASS charTracker - METHOD init - count: {}\".format(self.count))\n",
    "\n",
    "\n",
    "class stringManipulation:\n",
    "    __charCache = \"\"\n",
    "    def __init__(self,inputString,threshold=9):\n",
    "        self.inputString = inputString\n",
    "        logging.debug(\"CLASS stringManipulation - METHOD init - inputString: {}\".format(self.inputString))\n",
    "        self.threshold = threshold\n",
    "        logging.debug(\"CLASS stringManipulation - METHOD init - threshold: {}\".format(self.threshold))\n",
    "        self.__getCache()\n",
    "    def __checkThreshold(self,count):\n",
    "        if count < self.threshold:\n",
    "            logging.debug(\"CLASS stringManipulation - METHOD __checkThreshold - count < threshold : {0} < {1}\".format(count,self.threshold))\n",
    "            return count\n",
    "        else:\n",
    "            logging.debug(\"CLASS stringManipulation - METHOD __checkThreshold - count > threshold : {0} < {1}\".format(count,self.threshold))\n",
    "            return self.threshold\n",
    "    def __getCache(self):\n",
    "        prevChar = charTracker(self.inputString[0],1)\n",
    "        logging.debug(\"CLASS stringManipulation - METHOD __getCache - BEGIN! prevChar => {0}:{1}\".format(prevChar.char,prevChar.count))\n",
    "        for character in range(1,len(self.inputString),1):\n",
    "            logging.debug(\"CLASS stringManipulation - METHOD __getCache - Iteration:{0} prevChar => {1}:{2}\".format(character,prevChar.char,prevChar.count))\n",
    "            currChar = self.inputString[character]\n",
    "            logging.debug(\"CLASS stringManipulation - METHOD __getCache - Iteration:{0} currChar : {1}\".format(character,currChar))\n",
    "            if prevChar.char == currChar:\n",
    "                logging.debug(\"CLASS stringManipulation - METHOD __getCache - Matching! prevChar == currChar : {0} == {1}\".format(prevChar.char,currChar))\n",
    "                prevChar.count += 1\n",
    "                logging.debug(\"CLASS stringManipulation - METHOD __getCache - Matching! prevChar:prevCharCount : {0} == {1}\".format(prevChar.char,prevChar.count))\n",
    "            else:\n",
    "                self.__charCache += \"z\"+prevChar.char+str(self.__checkThreshold(prevChar.count))\n",
    "                logging.debug(\"CLASS stringManipulation - METHOD __getCache - Not-Matching! __charCache : {}\".format(self.__charCache))\n",
    "                prevChar = charTracker(currChar,1)\n",
    "                logging.debug(\"CLASS stringManipulation - METHOD __getCache - Not-Matching! prevChar:prevCharCount => {0}:{1}\".format(prevChar.char,prevChar.count))\n",
    "        self.__charCache += \"z\"+prevChar.char+str(self.__checkThreshold(prevChar.count))\n",
    "        logging.debug(\"CLASS stringManipulation - METHOD __getCache - END! __charCache : {}\".format(self.__charCache))\n",
    "    def get(self):\n",
    "        result = self.__charCache\n",
    "        logging.debug(\"CLASS stringManipulation - METHOD get - result: {}\".format(result))\n",
    "        return result"
   ]
  },
  {
   "cell_type": "code",
   "execution_count": 4,
   "metadata": {},
   "outputs": [
    {
     "name": "stderr",
     "output_type": "stream",
     "text": [
      "E\n",
      "======================================================================\n",
      "ERROR: /Users/sharan_sreesai/Library/Jupyter/runtime/kernel-9bcad254-b541-4cdd-9bd8-3f99988a4239 (unittest.loader._FailedTest)\n",
      "----------------------------------------------------------------------\n",
      "AttributeError: module '__main__' has no attribute '/Users/sharan_sreesai/Library/Jupyter/runtime/kernel-9bcad254-b541-4cdd-9bd8-3f99988a4239'\n",
      "\n",
      "----------------------------------------------------------------------\n",
      "Ran 1 test in 0.001s\n",
      "\n",
      "FAILED (errors=1)\n"
     ]
    },
    {
     "ename": "SystemExit",
     "evalue": "True",
     "output_type": "error",
     "traceback": [
      "An exception has occurred, use %tb to see the full traceback.\n",
      "\u001b[0;31mSystemExit\u001b[0m\u001b[0;31m:\u001b[0m True\n"
     ]
    },
    {
     "name": "stderr",
     "output_type": "stream",
     "text": [
      "/usr/local/lib/python3.7/site-packages/IPython/core/interactiveshell.py:3334: UserWarning: To exit: use 'exit', 'quit', or Ctrl-D.\n",
      "  warn(\"To exit: use 'exit', 'quit', or Ctrl-D.\", stacklevel=1)\n"
     ]
    }
   ],
   "source": [
    "class testStringManipulation(unittest.TestCase):\n",
    "    def testGet(self):\n",
    "        inputString = \"aaeeeeebcdffff\"\n",
    "        resultString = \"za2ze5zb1zc1zd1zf4\"\n",
    "        compute = stringManipulation(inputString).get()\n",
    "        self.assertEqual(compute,resultString)\n",
    "\n",
    "logging.basicConfig(stream=sys.stdout,level=logging.DEBUG)\n",
    "unittest.main()"
   ]
  },
  {
   "cell_type": "code",
   "execution_count": 22,
   "metadata": {},
   "outputs": [],
   "source": [
    "def main():\n",
    "    inputString = \"aaeeeeebcdffff\"\n",
    "    print(\"INPUT: {0} --> OUTPUT: {1}\".format(inputString,stringManipulation(inputString).get()))"
   ]
  },
  {
   "cell_type": "code",
   "execution_count": 23,
   "metadata": {},
   "outputs": [
    {
     "name": "stdout",
     "output_type": "stream",
     "text": [
      "DEBUG:root:CLASS stringManipulation - METHOD init - inputString: aaeeeeebcdffff\n",
      "DEBUG:root:CLASS stringManipulation - METHOD init - threshold: 9\n",
      "DEBUG:root:CLASS charTracker - METHOD init - char: a\n",
      "DEBUG:root:CLASS charTracker - METHOD init - count: 1\n",
      "DEBUG:root:CLASS stringManipulation - METHOD __getCache - BEGIN! prevChar => a:1\n",
      "DEBUG:root:CLASS stringManipulation - METHOD __getCache - Iteration:1 prevChar => a:1\n",
      "DEBUG:root:CLASS stringManipulation - METHOD __getCache - Iteration:1 currChar : a\n",
      "DEBUG:root:CLASS stringManipulation - METHOD __getCache - Matching! prevChar == currChar : a == a\n",
      "DEBUG:root:CLASS stringManipulation - METHOD __getCache - Matching! prevChar:prevCharCount : a == 2\n",
      "DEBUG:root:CLASS stringManipulation - METHOD __getCache - Iteration:2 prevChar => a:2\n",
      "DEBUG:root:CLASS stringManipulation - METHOD __getCache - Iteration:2 currChar : e\n",
      "DEBUG:root:CLASS stringManipulation - METHOD __checkThreshold - count < threshold : 2 < 9\n",
      "DEBUG:root:CLASS stringManipulation - METHOD __getCache - Not-Matching! __charCache : za2\n",
      "DEBUG:root:CLASS charTracker - METHOD init - char: e\n",
      "DEBUG:root:CLASS charTracker - METHOD init - count: 1\n",
      "DEBUG:root:CLASS stringManipulation - METHOD __getCache - Not-Matching! prevChar:prevCharCount => e:1\n",
      "DEBUG:root:CLASS stringManipulation - METHOD __getCache - Iteration:3 prevChar => e:1\n",
      "DEBUG:root:CLASS stringManipulation - METHOD __getCache - Iteration:3 currChar : e\n",
      "DEBUG:root:CLASS stringManipulation - METHOD __getCache - Matching! prevChar == currChar : e == e\n",
      "DEBUG:root:CLASS stringManipulation - METHOD __getCache - Matching! prevChar:prevCharCount : e == 2\n",
      "DEBUG:root:CLASS stringManipulation - METHOD __getCache - Iteration:4 prevChar => e:2\n",
      "DEBUG:root:CLASS stringManipulation - METHOD __getCache - Iteration:4 currChar : e\n",
      "DEBUG:root:CLASS stringManipulation - METHOD __getCache - Matching! prevChar == currChar : e == e\n",
      "DEBUG:root:CLASS stringManipulation - METHOD __getCache - Matching! prevChar:prevCharCount : e == 3\n",
      "DEBUG:root:CLASS stringManipulation - METHOD __getCache - Iteration:5 prevChar => e:3\n",
      "DEBUG:root:CLASS stringManipulation - METHOD __getCache - Iteration:5 currChar : e\n",
      "DEBUG:root:CLASS stringManipulation - METHOD __getCache - Matching! prevChar == currChar : e == e\n",
      "DEBUG:root:CLASS stringManipulation - METHOD __getCache - Matching! prevChar:prevCharCount : e == 4\n",
      "DEBUG:root:CLASS stringManipulation - METHOD __getCache - Iteration:6 prevChar => e:4\n",
      "DEBUG:root:CLASS stringManipulation - METHOD __getCache - Iteration:6 currChar : e\n",
      "DEBUG:root:CLASS stringManipulation - METHOD __getCache - Matching! prevChar == currChar : e == e\n",
      "DEBUG:root:CLASS stringManipulation - METHOD __getCache - Matching! prevChar:prevCharCount : e == 5\n",
      "DEBUG:root:CLASS stringManipulation - METHOD __getCache - Iteration:7 prevChar => e:5\n",
      "DEBUG:root:CLASS stringManipulation - METHOD __getCache - Iteration:7 currChar : b\n",
      "DEBUG:root:CLASS stringManipulation - METHOD __checkThreshold - count < threshold : 5 < 9\n",
      "DEBUG:root:CLASS stringManipulation - METHOD __getCache - Not-Matching! __charCache : za2ze5\n",
      "DEBUG:root:CLASS charTracker - METHOD init - char: b\n",
      "DEBUG:root:CLASS charTracker - METHOD init - count: 1\n",
      "DEBUG:root:CLASS stringManipulation - METHOD __getCache - Not-Matching! prevChar:prevCharCount => b:1\n",
      "DEBUG:root:CLASS stringManipulation - METHOD __getCache - Iteration:8 prevChar => b:1\n",
      "DEBUG:root:CLASS stringManipulation - METHOD __getCache - Iteration:8 currChar : c\n",
      "DEBUG:root:CLASS stringManipulation - METHOD __checkThreshold - count < threshold : 1 < 9\n",
      "DEBUG:root:CLASS stringManipulation - METHOD __getCache - Not-Matching! __charCache : za2ze5zb1\n",
      "DEBUG:root:CLASS charTracker - METHOD init - char: c\n",
      "DEBUG:root:CLASS charTracker - METHOD init - count: 1\n",
      "DEBUG:root:CLASS stringManipulation - METHOD __getCache - Not-Matching! prevChar:prevCharCount => c:1\n",
      "DEBUG:root:CLASS stringManipulation - METHOD __getCache - Iteration:9 prevChar => c:1\n",
      "DEBUG:root:CLASS stringManipulation - METHOD __getCache - Iteration:9 currChar : d\n",
      "DEBUG:root:CLASS stringManipulation - METHOD __checkThreshold - count < threshold : 1 < 9\n",
      "DEBUG:root:CLASS stringManipulation - METHOD __getCache - Not-Matching! __charCache : za2ze5zb1zc1\n",
      "DEBUG:root:CLASS charTracker - METHOD init - char: d\n",
      "DEBUG:root:CLASS charTracker - METHOD init - count: 1\n",
      "DEBUG:root:CLASS stringManipulation - METHOD __getCache - Not-Matching! prevChar:prevCharCount => d:1\n",
      "DEBUG:root:CLASS stringManipulation - METHOD __getCache - Iteration:10 prevChar => d:1\n",
      "DEBUG:root:CLASS stringManipulation - METHOD __getCache - Iteration:10 currChar : f\n",
      "DEBUG:root:CLASS stringManipulation - METHOD __checkThreshold - count < threshold : 1 < 9\n",
      "DEBUG:root:CLASS stringManipulation - METHOD __getCache - Not-Matching! __charCache : za2ze5zb1zc1zd1\n",
      "DEBUG:root:CLASS charTracker - METHOD init - char: f\n",
      "DEBUG:root:CLASS charTracker - METHOD init - count: 1\n",
      "DEBUG:root:CLASS stringManipulation - METHOD __getCache - Not-Matching! prevChar:prevCharCount => f:1\n",
      "DEBUG:root:CLASS stringManipulation - METHOD __getCache - Iteration:11 prevChar => f:1\n",
      "DEBUG:root:CLASS stringManipulation - METHOD __getCache - Iteration:11 currChar : f\n",
      "DEBUG:root:CLASS stringManipulation - METHOD __getCache - Matching! prevChar == currChar : f == f\n",
      "DEBUG:root:CLASS stringManipulation - METHOD __getCache - Matching! prevChar:prevCharCount : f == 2\n",
      "DEBUG:root:CLASS stringManipulation - METHOD __getCache - Iteration:12 prevChar => f:2\n",
      "DEBUG:root:CLASS stringManipulation - METHOD __getCache - Iteration:12 currChar : f\n",
      "DEBUG:root:CLASS stringManipulation - METHOD __getCache - Matching! prevChar == currChar : f == f\n",
      "DEBUG:root:CLASS stringManipulation - METHOD __getCache - Matching! prevChar:prevCharCount : f == 3\n",
      "DEBUG:root:CLASS stringManipulation - METHOD __getCache - Iteration:13 prevChar => f:3\n",
      "DEBUG:root:CLASS stringManipulation - METHOD __getCache - Iteration:13 currChar : f\n",
      "DEBUG:root:CLASS stringManipulation - METHOD __getCache - Matching! prevChar == currChar : f == f\n",
      "DEBUG:root:CLASS stringManipulation - METHOD __getCache - Matching! prevChar:prevCharCount : f == 4\n",
      "DEBUG:root:CLASS stringManipulation - METHOD __checkThreshold - count < threshold : 4 < 9\n",
      "DEBUG:root:CLASS stringManipulation - METHOD __getCache - END! __charCache : za2ze5zb1zc1zd1zf4\n",
      "DEBUG:root:CLASS stringManipulation - METHOD get - result: za2ze5zb1zc1zd1zf4\n",
      "INPUT: aaeeeeebcdffff --> OUTPUT: za2ze5zb1zc1zd1zf4\n"
     ]
    }
   ],
   "source": [
    "if __name__ == \"__main__\":\n",
    "    logging.basicConfig(stream=sys.stdout,level=logging.DEBUG)\n",
    "    main()"
   ]
  },
  {
   "cell_type": "code",
   "execution_count": null,
   "metadata": {},
   "outputs": [],
   "source": []
  }
 ],
 "metadata": {
  "kernelspec": {
   "display_name": "Python 3",
   "language": "python",
   "name": "python3"
  },
  "language_info": {
   "codemirror_mode": {
    "name": "ipython",
    "version": 3
   },
   "file_extension": ".py",
   "mimetype": "text/x-python",
   "name": "python",
   "nbconvert_exporter": "python",
   "pygments_lexer": "ipython3",
   "version": "3.7.0"
  }
 },
 "nbformat": 4,
 "nbformat_minor": 2
}
